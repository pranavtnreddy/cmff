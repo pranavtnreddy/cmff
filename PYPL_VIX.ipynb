{
 "cells": [
  {
   "cell_type": "code",
   "execution_count": 1,
   "metadata": {},
   "outputs": [],
   "source": [
    "import numpy as np\n",
    "import pandas as pd\n",
    "import matplotlib.pyplot as plt\n",
    "import scipy.stats as si\n",
    "import yfinance as yf\n",
    "import os"
   ]
  },
  {
   "cell_type": "code",
   "execution_count": 2,
   "metadata": {},
   "outputs": [
    {
     "name": "stdout",
     "output_type": "stream",
     "text": [
      "[*********************100%***********************]  1 of 1 completed\n"
     ]
    }
   ],
   "source": [
    "PYPL = yf.download(\"PYPL\", start=\"2020-01-01\", end=\"2020-10-31\")"
   ]
  },
  {
   "cell_type": "code",
   "execution_count": 3,
   "metadata": {},
   "outputs": [
    {
     "name": "stdout",
     "output_type": "stream",
     "text": [
      "The spot price is $ 186.13 .\n"
     ]
    }
   ],
   "source": [
    "S = PYPL['Adj Close'][-1]\n",
    "print('The spot price is $', round(S,2), '.')"
   ]
  },
  {
   "cell_type": "code",
   "execution_count": 4,
   "metadata": {},
   "outputs": [
    {
     "name": "stdout",
     "output_type": "stream",
     "text": [
      "The annualised volatility is 53.59 %\n"
     ]
    }
   ],
   "source": [
    "log_return = np.log(PYPL['Adj Close'] / PYPL['Adj Close'].shift(1))\n",
    "vol_h = np.sqrt(252) * log_return.std()\n",
    "print('The annualised volatility is', round(vol_h*100,2), '%')"
   ]
  },
  {
   "cell_type": "code",
   "execution_count": 5,
   "metadata": {},
   "outputs": [
    {
     "name": "stdout",
     "output_type": "stream",
     "text": [
      "[*********************100%***********************]  1 of 1 completed\n"
     ]
    }
   ],
   "source": [
    "VIX = yf.download(\"^VIX\", start=\"2020-01-01\", end=\"2020-10-31\")"
   ]
  },
  {
   "cell_type": "code",
   "execution_count": 6,
   "metadata": {},
   "outputs": [
    {
     "data": {
      "text/html": [
       "<div>\n",
       "<style scoped>\n",
       "    .dataframe tbody tr th:only-of-type {\n",
       "        vertical-align: middle;\n",
       "    }\n",
       "\n",
       "    .dataframe tbody tr th {\n",
       "        vertical-align: top;\n",
       "    }\n",
       "\n",
       "    .dataframe thead th {\n",
       "        text-align: right;\n",
       "    }\n",
       "</style>\n",
       "<table border=\"1\" class=\"dataframe\">\n",
       "  <thead>\n",
       "    <tr style=\"text-align: right;\">\n",
       "      <th></th>\n",
       "      <th>Open</th>\n",
       "      <th>High</th>\n",
       "      <th>Low</th>\n",
       "      <th>Close</th>\n",
       "      <th>Adj Close</th>\n",
       "      <th>Volume</th>\n",
       "    </tr>\n",
       "    <tr>\n",
       "      <th>Date</th>\n",
       "      <th></th>\n",
       "      <th></th>\n",
       "      <th></th>\n",
       "      <th></th>\n",
       "      <th></th>\n",
       "      <th></th>\n",
       "    </tr>\n",
       "  </thead>\n",
       "  <tbody>\n",
       "    <tr>\n",
       "      <th>2019-12-31</th>\n",
       "      <td>14.840000</td>\n",
       "      <td>15.390000</td>\n",
       "      <td>13.750000</td>\n",
       "      <td>13.780000</td>\n",
       "      <td>13.780000</td>\n",
       "      <td>0</td>\n",
       "    </tr>\n",
       "    <tr>\n",
       "      <th>2020-01-02</th>\n",
       "      <td>13.460000</td>\n",
       "      <td>13.720000</td>\n",
       "      <td>12.420000</td>\n",
       "      <td>12.470000</td>\n",
       "      <td>12.470000</td>\n",
       "      <td>0</td>\n",
       "    </tr>\n",
       "    <tr>\n",
       "      <th>2020-01-03</th>\n",
       "      <td>15.010000</td>\n",
       "      <td>16.200001</td>\n",
       "      <td>13.130000</td>\n",
       "      <td>14.020000</td>\n",
       "      <td>14.020000</td>\n",
       "      <td>0</td>\n",
       "    </tr>\n",
       "    <tr>\n",
       "      <th>2020-01-06</th>\n",
       "      <td>15.450000</td>\n",
       "      <td>16.389999</td>\n",
       "      <td>13.540000</td>\n",
       "      <td>13.850000</td>\n",
       "      <td>13.850000</td>\n",
       "      <td>0</td>\n",
       "    </tr>\n",
       "    <tr>\n",
       "      <th>2020-01-07</th>\n",
       "      <td>13.840000</td>\n",
       "      <td>14.460000</td>\n",
       "      <td>13.390000</td>\n",
       "      <td>13.790000</td>\n",
       "      <td>13.790000</td>\n",
       "      <td>0</td>\n",
       "    </tr>\n",
       "    <tr>\n",
       "      <th>...</th>\n",
       "      <td>...</td>\n",
       "      <td>...</td>\n",
       "      <td>...</td>\n",
       "      <td>...</td>\n",
       "      <td>...</td>\n",
       "      <td>...</td>\n",
       "    </tr>\n",
       "    <tr>\n",
       "      <th>2020-10-26</th>\n",
       "      <td>29.379999</td>\n",
       "      <td>33.680000</td>\n",
       "      <td>29.219999</td>\n",
       "      <td>32.459999</td>\n",
       "      <td>32.459999</td>\n",
       "      <td>0</td>\n",
       "    </tr>\n",
       "    <tr>\n",
       "      <th>2020-10-27</th>\n",
       "      <td>32.040001</td>\n",
       "      <td>33.770000</td>\n",
       "      <td>31.850000</td>\n",
       "      <td>33.349998</td>\n",
       "      <td>33.349998</td>\n",
       "      <td>0</td>\n",
       "    </tr>\n",
       "    <tr>\n",
       "      <th>2020-10-28</th>\n",
       "      <td>34.689999</td>\n",
       "      <td>40.770000</td>\n",
       "      <td>34.680000</td>\n",
       "      <td>40.279999</td>\n",
       "      <td>40.279999</td>\n",
       "      <td>0</td>\n",
       "    </tr>\n",
       "    <tr>\n",
       "      <th>2020-10-29</th>\n",
       "      <td>38.799999</td>\n",
       "      <td>41.160000</td>\n",
       "      <td>35.630001</td>\n",
       "      <td>37.590000</td>\n",
       "      <td>37.590000</td>\n",
       "      <td>0</td>\n",
       "    </tr>\n",
       "    <tr>\n",
       "      <th>2020-10-30</th>\n",
       "      <td>40.810001</td>\n",
       "      <td>41.090000</td>\n",
       "      <td>36.500000</td>\n",
       "      <td>38.020000</td>\n",
       "      <td>38.020000</td>\n",
       "      <td>0</td>\n",
       "    </tr>\n",
       "  </tbody>\n",
       "</table>\n",
       "<p>212 rows × 6 columns</p>\n",
       "</div>"
      ],
      "text/plain": [
       "                 Open       High        Low      Close  Adj Close  Volume\n",
       "Date                                                                     \n",
       "2019-12-31  14.840000  15.390000  13.750000  13.780000  13.780000       0\n",
       "2020-01-02  13.460000  13.720000  12.420000  12.470000  12.470000       0\n",
       "2020-01-03  15.010000  16.200001  13.130000  14.020000  14.020000       0\n",
       "2020-01-06  15.450000  16.389999  13.540000  13.850000  13.850000       0\n",
       "2020-01-07  13.840000  14.460000  13.390000  13.790000  13.790000       0\n",
       "...               ...        ...        ...        ...        ...     ...\n",
       "2020-10-26  29.379999  33.680000  29.219999  32.459999  32.459999       0\n",
       "2020-10-27  32.040001  33.770000  31.850000  33.349998  33.349998       0\n",
       "2020-10-28  34.689999  40.770000  34.680000  40.279999  40.279999       0\n",
       "2020-10-29  38.799999  41.160000  35.630001  37.590000  37.590000       0\n",
       "2020-10-30  40.810001  41.090000  36.500000  38.020000  38.020000       0\n",
       "\n",
       "[212 rows x 6 columns]"
      ]
     },
     "execution_count": 6,
     "metadata": {},
     "output_type": "execute_result"
    }
   ],
   "source": [
    "VIX"
   ]
  },
  {
   "cell_type": "code",
   "execution_count": 7,
   "metadata": {},
   "outputs": [
    {
     "name": "stdout",
     "output_type": "stream",
     "text": [
      "The market volatility is 38.02 % .\n"
     ]
    }
   ],
   "source": [
    "print('The market volatility is', round(VIX['Adj Close'][-1],2) , '% .')"
   ]
  },
  {
   "cell_type": "code",
   "execution_count": 8,
   "metadata": {},
   "outputs": [
    {
     "data": {
      "text/html": [
       "<div>\n",
       "<style scoped>\n",
       "    .dataframe tbody tr th:only-of-type {\n",
       "        vertical-align: middle;\n",
       "    }\n",
       "\n",
       "    .dataframe tbody tr th {\n",
       "        vertical-align: top;\n",
       "    }\n",
       "\n",
       "    .dataframe thead th {\n",
       "        text-align: right;\n",
       "    }\n",
       "</style>\n",
       "<table border=\"1\" class=\"dataframe\">\n",
       "  <thead>\n",
       "    <tr style=\"text-align: right;\">\n",
       "      <th></th>\n",
       "      <th>Open</th>\n",
       "      <th>High</th>\n",
       "      <th>Low</th>\n",
       "      <th>Close</th>\n",
       "      <th>Adj Close</th>\n",
       "      <th>Volume</th>\n",
       "    </tr>\n",
       "    <tr>\n",
       "      <th>Date</th>\n",
       "      <th></th>\n",
       "      <th></th>\n",
       "      <th></th>\n",
       "      <th></th>\n",
       "      <th></th>\n",
       "      <th></th>\n",
       "    </tr>\n",
       "  </thead>\n",
       "  <tbody>\n",
       "    <tr>\n",
       "      <th>2019-12-31</th>\n",
       "      <td>107.540001</td>\n",
       "      <td>108.449997</td>\n",
       "      <td>107.199997</td>\n",
       "      <td>108.169998</td>\n",
       "      <td>108.169998</td>\n",
       "      <td>4080500</td>\n",
       "    </tr>\n",
       "    <tr>\n",
       "      <th>2020-01-02</th>\n",
       "      <td>109.470001</td>\n",
       "      <td>111.209999</td>\n",
       "      <td>109.275002</td>\n",
       "      <td>110.750000</td>\n",
       "      <td>110.750000</td>\n",
       "      <td>7418800</td>\n",
       "    </tr>\n",
       "    <tr>\n",
       "      <th>2020-01-03</th>\n",
       "      <td>109.489998</td>\n",
       "      <td>110.419998</td>\n",
       "      <td>108.760002</td>\n",
       "      <td>108.760002</td>\n",
       "      <td>108.760002</td>\n",
       "      <td>7098300</td>\n",
       "    </tr>\n",
       "    <tr>\n",
       "      <th>2020-01-06</th>\n",
       "      <td>107.570000</td>\n",
       "      <td>110.220001</td>\n",
       "      <td>107.440002</td>\n",
       "      <td>110.169998</td>\n",
       "      <td>110.169998</td>\n",
       "      <td>6764500</td>\n",
       "    </tr>\n",
       "    <tr>\n",
       "      <th>2020-01-07</th>\n",
       "      <td>111.500000</td>\n",
       "      <td>111.559998</td>\n",
       "      <td>109.529999</td>\n",
       "      <td>109.669998</td>\n",
       "      <td>109.669998</td>\n",
       "      <td>6898700</td>\n",
       "    </tr>\n",
       "  </tbody>\n",
       "</table>\n",
       "</div>"
      ],
      "text/plain": [
       "                  Open        High         Low       Close   Adj Close  \\\n",
       "Date                                                                     \n",
       "2019-12-31  107.540001  108.449997  107.199997  108.169998  108.169998   \n",
       "2020-01-02  109.470001  111.209999  109.275002  110.750000  110.750000   \n",
       "2020-01-03  109.489998  110.419998  108.760002  108.760002  108.760002   \n",
       "2020-01-06  107.570000  110.220001  107.440002  110.169998  110.169998   \n",
       "2020-01-07  111.500000  111.559998  109.529999  109.669998  109.669998   \n",
       "\n",
       "             Volume  \n",
       "Date                 \n",
       "2019-12-31  4080500  \n",
       "2020-01-02  7418800  \n",
       "2020-01-03  7098300  \n",
       "2020-01-06  6764500  \n",
       "2020-01-07  6898700  "
      ]
     },
     "execution_count": 8,
     "metadata": {},
     "output_type": "execute_result"
    }
   ],
   "source": [
    "PYPL.head()"
   ]
  },
  {
   "cell_type": "code",
   "execution_count": 9,
   "metadata": {},
   "outputs": [
    {
     "data": {
      "text/plain": [
       "Date\n",
       "2019-12-31    108.169998\n",
       "2020-01-02    110.750000\n",
       "2020-01-03    108.760002\n",
       "2020-01-06    110.169998\n",
       "2020-01-07    109.669998\n",
       "Name: Adj Close, dtype: float64"
      ]
     },
     "execution_count": 9,
     "metadata": {},
     "output_type": "execute_result"
    }
   ],
   "source": [
    "PYPL['Adj Close'].head()"
   ]
  },
  {
   "cell_type": "code",
   "execution_count": 15,
   "metadata": {},
   "outputs": [
    {
     "name": "stdout",
     "output_type": "stream",
     "text": [
      "[*********************100%***********************]  2 of 2 completed\n"
     ]
    }
   ],
   "source": [
    "initial_data = yf.download(\"PYPL ^VIX\", start=\"2020-01-01\", end=\"2020-10-31\")"
   ]
  },
  {
   "cell_type": "code",
   "execution_count": 17,
   "metadata": {},
   "outputs": [
    {
     "data": {
      "text/html": [
       "<div>\n",
       "<style scoped>\n",
       "    .dataframe tbody tr th:only-of-type {\n",
       "        vertical-align: middle;\n",
       "    }\n",
       "\n",
       "    .dataframe tbody tr th {\n",
       "        vertical-align: top;\n",
       "    }\n",
       "\n",
       "    .dataframe thead tr th {\n",
       "        text-align: left;\n",
       "    }\n",
       "\n",
       "    .dataframe thead tr:last-of-type th {\n",
       "        text-align: right;\n",
       "    }\n",
       "</style>\n",
       "<table border=\"1\" class=\"dataframe\">\n",
       "  <thead>\n",
       "    <tr>\n",
       "      <th></th>\n",
       "      <th colspan=\"2\" halign=\"left\">Adj Close</th>\n",
       "      <th colspan=\"2\" halign=\"left\">Close</th>\n",
       "      <th colspan=\"2\" halign=\"left\">High</th>\n",
       "      <th colspan=\"2\" halign=\"left\">Low</th>\n",
       "      <th colspan=\"2\" halign=\"left\">Open</th>\n",
       "      <th colspan=\"2\" halign=\"left\">Volume</th>\n",
       "    </tr>\n",
       "    <tr>\n",
       "      <th></th>\n",
       "      <th>PYPL</th>\n",
       "      <th>^VIX</th>\n",
       "      <th>PYPL</th>\n",
       "      <th>^VIX</th>\n",
       "      <th>PYPL</th>\n",
       "      <th>^VIX</th>\n",
       "      <th>PYPL</th>\n",
       "      <th>^VIX</th>\n",
       "      <th>PYPL</th>\n",
       "      <th>^VIX</th>\n",
       "      <th>PYPL</th>\n",
       "      <th>^VIX</th>\n",
       "    </tr>\n",
       "    <tr>\n",
       "      <th>Date</th>\n",
       "      <th></th>\n",
       "      <th></th>\n",
       "      <th></th>\n",
       "      <th></th>\n",
       "      <th></th>\n",
       "      <th></th>\n",
       "      <th></th>\n",
       "      <th></th>\n",
       "      <th></th>\n",
       "      <th></th>\n",
       "      <th></th>\n",
       "      <th></th>\n",
       "    </tr>\n",
       "  </thead>\n",
       "  <tbody>\n",
       "    <tr>\n",
       "      <th>2019-12-31</th>\n",
       "      <td>108.169998</td>\n",
       "      <td>13.78</td>\n",
       "      <td>108.169998</td>\n",
       "      <td>13.78</td>\n",
       "      <td>108.449997</td>\n",
       "      <td>15.390000</td>\n",
       "      <td>107.199997</td>\n",
       "      <td>13.75</td>\n",
       "      <td>107.540001</td>\n",
       "      <td>14.84</td>\n",
       "      <td>4080500</td>\n",
       "      <td>0</td>\n",
       "    </tr>\n",
       "    <tr>\n",
       "      <th>2020-01-02</th>\n",
       "      <td>110.750000</td>\n",
       "      <td>12.47</td>\n",
       "      <td>110.750000</td>\n",
       "      <td>12.47</td>\n",
       "      <td>111.209999</td>\n",
       "      <td>13.720000</td>\n",
       "      <td>109.275002</td>\n",
       "      <td>12.42</td>\n",
       "      <td>109.470001</td>\n",
       "      <td>13.46</td>\n",
       "      <td>7418800</td>\n",
       "      <td>0</td>\n",
       "    </tr>\n",
       "    <tr>\n",
       "      <th>2020-01-03</th>\n",
       "      <td>108.760002</td>\n",
       "      <td>14.02</td>\n",
       "      <td>108.760002</td>\n",
       "      <td>14.02</td>\n",
       "      <td>110.419998</td>\n",
       "      <td>16.200001</td>\n",
       "      <td>108.760002</td>\n",
       "      <td>13.13</td>\n",
       "      <td>109.489998</td>\n",
       "      <td>15.01</td>\n",
       "      <td>7098300</td>\n",
       "      <td>0</td>\n",
       "    </tr>\n",
       "    <tr>\n",
       "      <th>2020-01-06</th>\n",
       "      <td>110.169998</td>\n",
       "      <td>13.85</td>\n",
       "      <td>110.169998</td>\n",
       "      <td>13.85</td>\n",
       "      <td>110.220001</td>\n",
       "      <td>16.389999</td>\n",
       "      <td>107.440002</td>\n",
       "      <td>13.54</td>\n",
       "      <td>107.570000</td>\n",
       "      <td>15.45</td>\n",
       "      <td>6764500</td>\n",
       "      <td>0</td>\n",
       "    </tr>\n",
       "    <tr>\n",
       "      <th>2020-01-07</th>\n",
       "      <td>109.669998</td>\n",
       "      <td>13.79</td>\n",
       "      <td>109.669998</td>\n",
       "      <td>13.79</td>\n",
       "      <td>111.559998</td>\n",
       "      <td>14.460000</td>\n",
       "      <td>109.529999</td>\n",
       "      <td>13.39</td>\n",
       "      <td>111.500000</td>\n",
       "      <td>13.84</td>\n",
       "      <td>6898700</td>\n",
       "      <td>0</td>\n",
       "    </tr>\n",
       "  </tbody>\n",
       "</table>\n",
       "</div>"
      ],
      "text/plain": [
       "             Adj Close              Close               High             \\\n",
       "                  PYPL   ^VIX        PYPL   ^VIX        PYPL       ^VIX   \n",
       "Date                                                                      \n",
       "2019-12-31  108.169998  13.78  108.169998  13.78  108.449997  15.390000   \n",
       "2020-01-02  110.750000  12.47  110.750000  12.47  111.209999  13.720000   \n",
       "2020-01-03  108.760002  14.02  108.760002  14.02  110.419998  16.200001   \n",
       "2020-01-06  110.169998  13.85  110.169998  13.85  110.220001  16.389999   \n",
       "2020-01-07  109.669998  13.79  109.669998  13.79  111.559998  14.460000   \n",
       "\n",
       "                   Low               Open          Volume       \n",
       "                  PYPL   ^VIX        PYPL   ^VIX     PYPL ^VIX  \n",
       "Date                                                            \n",
       "2019-12-31  107.199997  13.75  107.540001  14.84  4080500    0  \n",
       "2020-01-02  109.275002  12.42  109.470001  13.46  7418800    0  \n",
       "2020-01-03  108.760002  13.13  109.489998  15.01  7098300    0  \n",
       "2020-01-06  107.440002  13.54  107.570000  15.45  6764500    0  \n",
       "2020-01-07  109.529999  13.39  111.500000  13.84  6898700    0  "
      ]
     },
     "execution_count": 17,
     "metadata": {},
     "output_type": "execute_result"
    }
   ],
   "source": [
    "initial_data.head()"
   ]
  },
  {
   "cell_type": "code",
   "execution_count": 18,
   "metadata": {},
   "outputs": [
    {
     "data": {
      "text/html": [
       "<div>\n",
       "<style scoped>\n",
       "    .dataframe tbody tr th:only-of-type {\n",
       "        vertical-align: middle;\n",
       "    }\n",
       "\n",
       "    .dataframe tbody tr th {\n",
       "        vertical-align: top;\n",
       "    }\n",
       "\n",
       "    .dataframe thead th {\n",
       "        text-align: right;\n",
       "    }\n",
       "</style>\n",
       "<table border=\"1\" class=\"dataframe\">\n",
       "  <thead>\n",
       "    <tr style=\"text-align: right;\">\n",
       "      <th></th>\n",
       "      <th>PYPL</th>\n",
       "      <th>^VIX</th>\n",
       "    </tr>\n",
       "    <tr>\n",
       "      <th>Date</th>\n",
       "      <th></th>\n",
       "      <th></th>\n",
       "    </tr>\n",
       "  </thead>\n",
       "  <tbody>\n",
       "    <tr>\n",
       "      <th>2019-12-31</th>\n",
       "      <td>108.169998</td>\n",
       "      <td>13.78</td>\n",
       "    </tr>\n",
       "    <tr>\n",
       "      <th>2020-01-02</th>\n",
       "      <td>110.750000</td>\n",
       "      <td>12.47</td>\n",
       "    </tr>\n",
       "    <tr>\n",
       "      <th>2020-01-03</th>\n",
       "      <td>108.760002</td>\n",
       "      <td>14.02</td>\n",
       "    </tr>\n",
       "    <tr>\n",
       "      <th>2020-01-06</th>\n",
       "      <td>110.169998</td>\n",
       "      <td>13.85</td>\n",
       "    </tr>\n",
       "    <tr>\n",
       "      <th>2020-01-07</th>\n",
       "      <td>109.669998</td>\n",
       "      <td>13.79</td>\n",
       "    </tr>\n",
       "  </tbody>\n",
       "</table>\n",
       "</div>"
      ],
      "text/plain": [
       "                  PYPL   ^VIX\n",
       "Date                         \n",
       "2019-12-31  108.169998  13.78\n",
       "2020-01-02  110.750000  12.47\n",
       "2020-01-03  108.760002  14.02\n",
       "2020-01-06  110.169998  13.85\n",
       "2020-01-07  109.669998  13.79"
      ]
     },
     "execution_count": 18,
     "metadata": {},
     "output_type": "execute_result"
    }
   ],
   "source": [
    "initial_data['Adj Close'].head()"
   ]
  },
  {
   "cell_type": "code",
   "execution_count": 19,
   "metadata": {},
   "outputs": [
    {
     "name": "stdout",
     "output_type": "stream",
     "text": [
      "<class 'pandas.core.frame.DataFrame'>\n",
      "DatetimeIndex: 212 entries, 2019-12-31 to 2020-10-30\n",
      "Data columns (total 2 columns):\n",
      " #   Column  Non-Null Count  Dtype  \n",
      "---  ------  --------------  -----  \n",
      " 0   PYPL    212 non-null    float64\n",
      " 1   ^VIX    212 non-null    float64\n",
      "dtypes: float64(2)\n",
      "memory usage: 5.0 KB\n"
     ]
    }
   ],
   "source": [
    "data =  initial_data['Adj Close']\n",
    "data.info()"
   ]
  },
  {
   "cell_type": "code",
   "execution_count": 20,
   "metadata": {},
   "outputs": [
    {
     "data": {
      "text/html": [
       "<div>\n",
       "<style scoped>\n",
       "    .dataframe tbody tr th:only-of-type {\n",
       "        vertical-align: middle;\n",
       "    }\n",
       "\n",
       "    .dataframe tbody tr th {\n",
       "        vertical-align: top;\n",
       "    }\n",
       "\n",
       "    .dataframe thead th {\n",
       "        text-align: right;\n",
       "    }\n",
       "</style>\n",
       "<table border=\"1\" class=\"dataframe\">\n",
       "  <thead>\n",
       "    <tr style=\"text-align: right;\">\n",
       "      <th></th>\n",
       "      <th>PYPL</th>\n",
       "      <th>^VIX</th>\n",
       "    </tr>\n",
       "    <tr>\n",
       "      <th>Date</th>\n",
       "      <th></th>\n",
       "      <th></th>\n",
       "    </tr>\n",
       "  </thead>\n",
       "  <tbody>\n",
       "    <tr>\n",
       "      <th>2020-10-26</th>\n",
       "      <td>197.220001</td>\n",
       "      <td>32.459999</td>\n",
       "    </tr>\n",
       "    <tr>\n",
       "      <th>2020-10-27</th>\n",
       "      <td>200.429993</td>\n",
       "      <td>33.349998</td>\n",
       "    </tr>\n",
       "    <tr>\n",
       "      <th>2020-10-28</th>\n",
       "      <td>192.309998</td>\n",
       "      <td>40.279999</td>\n",
       "    </tr>\n",
       "    <tr>\n",
       "      <th>2020-10-29</th>\n",
       "      <td>195.039993</td>\n",
       "      <td>37.590000</td>\n",
       "    </tr>\n",
       "    <tr>\n",
       "      <th>2020-10-30</th>\n",
       "      <td>186.130005</td>\n",
       "      <td>38.020000</td>\n",
       "    </tr>\n",
       "  </tbody>\n",
       "</table>\n",
       "</div>"
      ],
      "text/plain": [
       "                  PYPL       ^VIX\n",
       "Date                             \n",
       "2020-10-26  197.220001  32.459999\n",
       "2020-10-27  200.429993  33.349998\n",
       "2020-10-28  192.309998  40.279999\n",
       "2020-10-29  195.039993  37.590000\n",
       "2020-10-30  186.130005  38.020000"
      ]
     },
     "execution_count": 20,
     "metadata": {},
     "output_type": "execute_result"
    }
   ],
   "source": [
    "data.tail()"
   ]
  },
  {
   "cell_type": "code",
   "execution_count": 21,
   "metadata": {},
   "outputs": [
    {
     "data": {
      "text/html": [
       "<div>\n",
       "<style scoped>\n",
       "    .dataframe tbody tr th:only-of-type {\n",
       "        vertical-align: middle;\n",
       "    }\n",
       "\n",
       "    .dataframe tbody tr th {\n",
       "        vertical-align: top;\n",
       "    }\n",
       "\n",
       "    .dataframe thead th {\n",
       "        text-align: right;\n",
       "    }\n",
       "</style>\n",
       "<table border=\"1\" class=\"dataframe\">\n",
       "  <thead>\n",
       "    <tr style=\"text-align: right;\">\n",
       "      <th></th>\n",
       "      <th>PYPL</th>\n",
       "      <th>^VIX</th>\n",
       "    </tr>\n",
       "    <tr>\n",
       "      <th>Date</th>\n",
       "      <th></th>\n",
       "      <th></th>\n",
       "    </tr>\n",
       "  </thead>\n",
       "  <tbody>\n",
       "    <tr>\n",
       "      <th>2019-12-31</th>\n",
       "      <td>108.169998</td>\n",
       "      <td>13.78</td>\n",
       "    </tr>\n",
       "    <tr>\n",
       "      <th>2020-01-02</th>\n",
       "      <td>110.750000</td>\n",
       "      <td>12.47</td>\n",
       "    </tr>\n",
       "    <tr>\n",
       "      <th>2020-01-03</th>\n",
       "      <td>108.760002</td>\n",
       "      <td>14.02</td>\n",
       "    </tr>\n",
       "    <tr>\n",
       "      <th>2020-01-06</th>\n",
       "      <td>110.169998</td>\n",
       "      <td>13.85</td>\n",
       "    </tr>\n",
       "    <tr>\n",
       "      <th>2020-01-07</th>\n",
       "      <td>109.669998</td>\n",
       "      <td>13.79</td>\n",
       "    </tr>\n",
       "  </tbody>\n",
       "</table>\n",
       "</div>"
      ],
      "text/plain": [
       "                  PYPL   ^VIX\n",
       "Date                         \n",
       "2019-12-31  108.169998  13.78\n",
       "2020-01-02  110.750000  12.47\n",
       "2020-01-03  108.760002  14.02\n",
       "2020-01-06  110.169998  13.85\n",
       "2020-01-07  109.669998  13.79"
      ]
     },
     "execution_count": 21,
     "metadata": {},
     "output_type": "execute_result"
    }
   ],
   "source": [
    "data.head()"
   ]
  },
  {
   "cell_type": "code",
   "execution_count": 22,
   "metadata": {},
   "outputs": [
    {
     "data": {
      "text/plain": [
       "array([<AxesSubplot:xlabel='Date'>, <AxesSubplot:xlabel='Date'>],\n",
       "      dtype=object)"
      ]
     },
     "execution_count": 22,
     "metadata": {},
     "output_type": "execute_result"
    },
    {
     "data": {
      "image/png": "[encoded data removed]",
      "text/plain": [
       "<Figure size 864x1008 with 2 Axes>"
      ]
     },
     "metadata": {
      "needs_background": "light"
     },
     "output_type": "display_data"
    }
   ],
   "source": [
    "data.plot(figsize=(12, 14), subplots=True)"
   ]
  },
  {
   "cell_type": "code",
   "execution_count": 23,
   "metadata": {},
   "outputs": [
    {
     "data": {
      "text/html": [
       "<div>\n",
       "<style scoped>\n",
       "    .dataframe tbody tr th:only-of-type {\n",
       "        vertical-align: middle;\n",
       "    }\n",
       "\n",
       "    .dataframe tbody tr th {\n",
       "        vertical-align: top;\n",
       "    }\n",
       "\n",
       "    .dataframe thead th {\n",
       "        text-align: right;\n",
       "    }\n",
       "</style>\n",
       "<table border=\"1\" class=\"dataframe\">\n",
       "  <thead>\n",
       "    <tr style=\"text-align: right;\">\n",
       "      <th></th>\n",
       "      <th>PYPL</th>\n",
       "      <th>^VIX</th>\n",
       "    </tr>\n",
       "  </thead>\n",
       "  <tbody>\n",
       "    <tr>\n",
       "      <th>count</th>\n",
       "      <td>212.00</td>\n",
       "      <td>212.00</td>\n",
       "    </tr>\n",
       "    <tr>\n",
       "      <th>mean</th>\n",
       "      <td>151.36</td>\n",
       "      <td>30.29</td>\n",
       "    </tr>\n",
       "    <tr>\n",
       "      <th>std</th>\n",
       "      <td>37.95</td>\n",
       "      <td>13.16</td>\n",
       "    </tr>\n",
       "    <tr>\n",
       "      <th>min</th>\n",
       "      <td>85.26</td>\n",
       "      <td>12.10</td>\n",
       "    </tr>\n",
       "    <tr>\n",
       "      <th>25%</th>\n",
       "      <td>115.27</td>\n",
       "      <td>23.96</td>\n",
       "    </tr>\n",
       "    <tr>\n",
       "      <th>50%</th>\n",
       "      <td>154.81</td>\n",
       "      <td>27.77</td>\n",
       "    </tr>\n",
       "    <tr>\n",
       "      <th>75%</th>\n",
       "      <td>188.09</td>\n",
       "      <td>33.71</td>\n",
       "    </tr>\n",
       "    <tr>\n",
       "      <th>max</th>\n",
       "      <td>213.07</td>\n",
       "      <td>82.69</td>\n",
       "    </tr>\n",
       "  </tbody>\n",
       "</table>\n",
       "</div>"
      ],
      "text/plain": [
       "         PYPL    ^VIX\n",
       "count  212.00  212.00\n",
       "mean   151.36   30.29\n",
       "std     37.95   13.16\n",
       "min     85.26   12.10\n",
       "25%    115.27   23.96\n",
       "50%    154.81   27.77\n",
       "75%    188.09   33.71\n",
       "max    213.07   82.69"
      ]
     },
     "execution_count": 23,
     "metadata": {},
     "output_type": "execute_result"
    }
   ],
   "source": [
    "data.describe().round(2)"
   ]
  },
  {
   "cell_type": "code",
   "execution_count": null,
   "metadata": {},
   "outputs": [],
   "source": []
  }
 ],
 "metadata": {
  "kernelspec": {
   "display_name": "Python 3",
   "language": "python",
   "name": "python3"
  },
  "language_info": {
   "codemirror_mode": {
    "name": "ipython",
    "version": 3
   },
   "file_extension": ".py",
   "mimetype": "text/x-python",
   "name": "python",
   "nbconvert_exporter": "python",
   "pygments_lexer": "ipython3",
   "version": "3.8.3"
  }
 },
 "nbformat": 4,
 "nbformat_minor": 4
}
